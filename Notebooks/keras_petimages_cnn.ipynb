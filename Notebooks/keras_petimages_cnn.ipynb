{
 "cells": [
  {
   "cell_type": "markdown",
   "metadata": {},
   "source": [
    "# Initialize Environment"
   ]
  },
  {
   "cell_type": "code",
   "execution_count": null,
   "metadata": {},
   "outputs": [],
   "source": [
    "import tensorflow as tf\n",
    "import skopt\n",
    "from skopt.utils import use_named_args\n",
    "import matplotlib.pyplot as plt\n",
    "import numpy as np\n",
    "import datetime\n",
    "import random\n",
    "import os\n",
    "from shutil import rmtree\n",
    "import pickle"
   ]
  },
  {
   "cell_type": "code",
   "execution_count": null,
   "metadata": {},
   "outputs": [],
   "source": [
    "%matplotlib inline\n",
    "%load_ext tensorboard.notebook"
   ]
  },
  {
   "cell_type": "code",
   "execution_count": null,
   "metadata": {},
   "outputs": [],
   "source": [
    "LOGS_PATH = os.path.join('.', 'logs', 'fit', 'petimages')\n",
    "MODEL_FILE_NAME = 'keras_petimages_cnn.model'\n",
    "DATA_X_PATH = 'petimages.x.pickle'\n",
    "DATA_Y_PATH = 'petimages.y.pickle'"
   ]
  },
  {
   "cell_type": "markdown",
   "metadata": {},
   "source": [
    "# Load Data"
   ]
  },
  {
   "cell_type": "code",
   "execution_count": null,
   "metadata": {},
   "outputs": [],
   "source": [
    "def load_data(path):\n",
    "    pickle_in = open(path, 'rb')\n",
    "    result = pickle.load(pickle_in)\n",
    "    pickle_in.close()\n",
    "    return result"
   ]
  },
  {
   "cell_type": "code",
   "execution_count": null,
   "metadata": {},
   "outputs": [],
   "source": [
    "if not os.path.isfile(DATA_X_PATH):\n",
    "    raise f'Data file \"{DATA_Y_PATH}\" does not exist' \\\n",
    "        + 'download petimage dataset from kaggle and' \\\n",
    "        + 'use tools/load_image_data.py to perpare the data'\n",
    "if not os.path.isfile(DATA_Y_PATH):\n",
    "    raise f'Data file \"{DATA_Y_PATH}\" does not exist' \\\n",
    "        + 'download petimage dataset from kaggle and' \\\n",
    "        + 'use tools/load_image_data.py to perpare the data'\n",
    "x = load_data(DATA_X_PATH)\n",
    "y = load_data(DATA_Y_PATH)"
   ]
  },
  {
   "cell_type": "code",
   "execution_count": null,
   "metadata": {
    "scrolled": true
   },
   "outputs": [],
   "source": [
    "sample_pos = random.randint(1, x.shape[0])\n",
    "print(f'Image at {sample_pos}')\n",
    "plt.imshow(x[sample_pos - 1], cmap = plt.cm.binary)"
   ]
  },
  {
   "cell_type": "markdown",
   "metadata": {},
   "source": [
    "# Normalize Data\n",
    "Data is already normalized"
   ]
  },
  {
   "cell_type": "markdown",
   "metadata": {},
   "source": [
    "# Define Model"
   ]
  },
  {
   "cell_type": "code",
   "execution_count": null,
   "metadata": {
    "scrolled": true
   },
   "outputs": [],
   "source": [
    "def create_model(learning_rate, num_conv_layers, exp_conv_layers, kernel_radius, num_dense_layers, num_dense_nodes, activation):\n",
    "    kernel_shape = tuple([kernel_radius * 2 - 1] * 2)\n",
    "    model = tf.keras.models.Sequential()\n",
    "    model.add(tf.keras.layers.Conv2D(2**exp_conv_layers, kernel_shape, input_shape=x.shape[1:]))\n",
    "    model.add(tf.keras.layers.Activation(activation))\n",
    "    model.add(tf.keras.layers.MaxPooling2D(pool_size=(2, 2)))\n",
    "    for l in range(num_conv_layers - 1):\n",
    "        model.add(tf.keras.layers.Conv2D(2**(exp_conv_layers + l), kernel_shape))\n",
    "        model.add(tf.keras.layers.Activation(activation))\n",
    "        model.add(tf.keras.layers.MaxPooling2D(pool_size=(2, 2)))\n",
    "    model.add(tf.keras.layers.Flatten())\n",
    "    for i in range(num_dense_layers - 1):\n",
    "        model.add(tf.keras.layers.Dense(num_dense_nodes, activation=activation))\n",
    "    if num_dense_layers > 1:\n",
    "        model.add(tf.keras.layers.Dropout(0.2))\n",
    "    model.add(tf.keras.layers.Dense(2, activation = tf.nn.softmax))\n",
    "    model.compile(optimizer = tf.keras.optimizers.Adam(learning_rate),\n",
    "                  loss = 'categorical_crossentropy',\n",
    "                  metrics = ['accuracy'])\n",
    "    return model"
   ]
  },
  {
   "cell_type": "markdown",
   "metadata": {},
   "source": [
    "# Train & Verify Model"
   ]
  },
  {
   "cell_type": "code",
   "execution_count": null,
   "metadata": {},
   "outputs": [],
   "source": [
    "def log_dir_path(learning_rate, num_conv_layers, exp_conv_layers, kernel_radius, num_dense_layers, num_dense_nodes, activation):\n",
    "    time_stamp = datetime.datetime.now().strftime('%Y%m%d-%H%M%S')\n",
    "    log_dir_name_pattern = \"lr{0:.0e}_cl{1}_e{2}_k{3}x{3}_dl{4}_n{5}_a{6}_{7}\"\n",
    "    kernel_width = kernel_radius * 2 - 1\n",
    "    log_dir_name = log_dir_name_pattern.format(learning_rate,\n",
    "                                               num_conv_layers,\n",
    "                                               exp_conv_layers,\n",
    "                                               kernel_width,\n",
    "                                               num_dense_layers,\n",
    "                                               num_dense_nodes,\n",
    "                                               activation,\n",
    "                                               time_stamp)\n",
    "    log_dir = os.path.join(LOGS_PATH, log_dir_name)\n",
    "\n",
    "    return log_dir\n",
    "    "
   ]
  },
  {
   "cell_type": "code",
   "execution_count": null,
   "metadata": {
    "scrolled": true
   },
   "outputs": [],
   "source": [
    "def fit_model(learning_rate, num_conv_layers, exp_conv_layers, kernel_radius, num_dense_layers, num_dense_nodes, activation):\n",
    "    model = create_model(learning_rate=learning_rate,\n",
    "                         num_conv_layers=num_conv_layers,\n",
    "                         exp_conv_layers=exp_conv_layers,\n",
    "                         kernel_radius=kernel_radius, \n",
    "                         num_dense_layers=num_dense_layers,\n",
    "                         num_dense_nodes=num_dense_nodes,\n",
    "                         activation=activation)\n",
    "    \n",
    "    log_dir = log_dir_path(learning_rate,\n",
    "                           num_conv_layers,\n",
    "                           exp_conv_layers,\n",
    "                           kernel_radius, \n",
    "                           num_dense_layers,\n",
    "                           num_dense_nodes,\n",
    "                           activation)\n",
    "    \n",
    "    tensor_board_callback = tf.keras.callbacks.TensorBoard(log_dir=log_dir,\n",
    "                                                           histogram_freq=1)\n",
    "    early_stopping_callback = tf.keras.callbacks.EarlyStopping(monitor='val_loss',\n",
    "                                                               patience=2,\n",
    "                                                               restore_best_weights=True)\n",
    "   \n",
    "    history = model.fit(x=x,\n",
    "                        y=y,\n",
    "                        validation_split=0.3,\n",
    "                        epochs=20, \n",
    "                        callbacks=[tensor_board_callback,\n",
    "                                   early_stopping_callback])\n",
    "    accuracy = history.history['val_accuracy'][early_stopping_callback.stopped_epoch]\n",
    "    \n",
    "    return model, accuracy"
   ]
  },
  {
   "cell_type": "code",
   "execution_count": null,
   "metadata": {},
   "outputs": [],
   "source": [
    "# Clear any logs from previous runs\n",
    "if os.path.isdir(LOGS_PATH):\n",
    "    rmtree(LOGS_PATH, ignore_errors=True)"
   ]
  },
  {
   "cell_type": "code",
   "execution_count": null,
   "metadata": {},
   "outputs": [],
   "source": [
    "initial_parameters = [1e-3, 2, 5, 3, 2, 128, 'relu']\n",
    "model, accuracy = fit_model(*initial_parameters)\n",
    "print()\n",
    "print(\"Accuracy: {0:.2%}\".format(accuracy))\n",
    "del model\n",
    "tf.keras.backend.clear_session()"
   ]
  },
  {
   "cell_type": "markdown",
   "metadata": {},
   "source": [
    "# Hyperparameter Optimiziation\n",
    "Using Bayesian Optimiziation"
   ]
  },
  {
   "cell_type": "code",
   "execution_count": null,
   "metadata": {},
   "outputs": [],
   "source": [
    "dim_learning_rate = skopt.space.Real(low=1e-6, high=1e-1, prior='log-uniform', name='learning_rate')\n",
    "dim_num_conv_layers = skopt.space.Integer(low=1, high=3, name='num_conv_layers')\n",
    "dim_exp_conv_layers = skopt.space.Integer(low=3, high=7, name='exp_conv_layers')\n",
    "dim_kernel_radius = skopt.space.Integer(low=2, high=4, name='kernel_radius')\n",
    "dim_num_dense_layers = skopt.space.Integer(low=0, high=3, name='num_dense_layers')\n",
    "dim_num_dense_nodes = skopt.space.Integer(low=5, high=512, name='num_dense_nodes')\n",
    "dim_activation = skopt.space.Categorical(categories=['relu', 'sigmoid'], name='activation')\n",
    "dimensions = [\n",
    "    dim_learning_rate,\n",
    "    dim_num_conv_layers,\n",
    "    dim_exp_conv_layers,\n",
    "    dim_kernel_radius,\n",
    "    dim_num_dense_layers,\n",
    "    dim_num_dense_nodes,\n",
    "    dim_activation]"
   ]
  },
  {
   "cell_type": "code",
   "execution_count": null,
   "metadata": {},
   "outputs": [],
   "source": [
    "best_run = {\n",
    "    'accuracy': 0.0,\n",
    "    'learning_rate': None,\n",
    "    'num_conv_layers': None,\n",
    "    'exp_conv_layers': None,\n",
    "    'num_dense_layers': None,\n",
    "    'num_dense_nodes': None,\n",
    "    'activation': None\n",
    "}\n",
    "@use_named_args(dimensions=dimensions)\n",
    "def fitness(learning_rate, num_conv_layers, exp_conv_layers, kernel_radius, num_dense_layers, num_dense_nodes, activation):\n",
    "    \n",
    "    print('Learning rate: {0:.1e}'.format(learning_rate))\n",
    "    print('Number of convolution layers:', num_conv_layers)\n",
    "    print('Exponent of size of first convolution layer:', exp_conv_layers)\n",
    "    print('Kernel radius:', kernel_radius)\n",
    "    print('Number of dense layers:', num_dense_layers)\n",
    "    print('Number of dense nodes:', num_dense_nodes)\n",
    "    print('Activation function:', activation)\n",
    "    print()\n",
    "    \n",
    "    model, accuracy = fit_model(learning_rate=learning_rate,\n",
    "                                num_conv_layers=num_conv_layers,\n",
    "                                exp_conv_layers=exp_conv_layers,\n",
    "                                kernel_radius=kernel_radius,\n",
    "                                num_dense_layers=num_dense_layers,\n",
    "                                num_dense_nodes=num_dense_nodes,\n",
    "                                activation=activation)\n",
    "    \n",
    "    global best_run\n",
    "    \n",
    "    print()\n",
    "    print(\"Accuracy: {0:.2%}\".format(accuracy))\n",
    "    print(\"Best Accuracy so far: {0:.2%}\".format(best_run['accuracy']))\n",
    "    print()\n",
    "    \n",
    "    if accuracy > best_run['accuracy']:\n",
    "        model.save(MODEL_FILE_NAME)\n",
    "        best_run['accuracy'] = accuracy\n",
    "        best_run['learning_rate'] = learning_rate\n",
    "        best_run['num_conv_layers'] = num_conv_layers\n",
    "        best_run['exp_conv_layers'] = exp_conv_layers\n",
    "        best_run['num_dense_layers'] = num_dense_layers\n",
    "        best_run['num_dense_nodes'] = num_dense_nodes\n",
    "        best_run['activation'] = activation\n",
    "    \n",
    "    del model\n",
    "    tf.keras.backend.clear_session()\n",
    "    \n",
    "    # Scikit-optimize tries to find a set of hyper-parameters with the LOWEST fitness-value\n",
    "    return -accuracy"
   ]
  },
  {
   "cell_type": "code",
   "execution_count": null,
   "metadata": {},
   "outputs": [],
   "source": [
    "search_result = skopt.gp_minimize(func=fitness,\n",
    "                                  dimensions=dimensions,\n",
    "                                  acq_func='EI',\n",
    "                                  n_calls=40,\n",
    "                                  x0=initial_parameters)"
   ]
  },
  {
   "cell_type": "code",
   "execution_count": null,
   "metadata": {},
   "outputs": [],
   "source": [
    "print(\"Best Accuracy: {0:.2%}\".format(best_run['accuracy']))\n",
    "print('Best set of hyperparameters:')\n",
    "print('  Learning rate: {0:.1e}'.format(best_run['learning_rate']))\n",
    "print('  Number of convolution layers:', best_run['num_conv_layers'])\n",
    "print('  Exponent of size of first convolution layer:', best_run['exp_conv_layers'])\n",
    "print('  Number of dense layers:', best_run['num_dense_layers'])\n",
    "print('  Number of dense nodes:', best_run['num_dense_nodes'])\n",
    "print('  Activation function:', best_run['activation'])"
   ]
  },
  {
   "cell_type": "code",
   "execution_count": null,
   "metadata": {},
   "outputs": [],
   "source": [
    "%tensorboard --logdir './logs/fit/petimages'"
   ]
  },
  {
   "cell_type": "markdown",
   "metadata": {},
   "source": [
    "# Use Model"
   ]
  },
  {
   "cell_type": "code",
   "execution_count": null,
   "metadata": {},
   "outputs": [],
   "source": [
    "!test_petimages"
   ]
  }
 ],
 "metadata": {
  "kernelspec": {
   "display_name": "Python 3",
   "language": "python",
   "name": "python3"
  },
  "language_info": {
   "codemirror_mode": {
    "name": "ipython",
    "version": 3
   },
   "file_extension": ".py",
   "mimetype": "text/x-python",
   "name": "python",
   "nbconvert_exporter": "python",
   "pygments_lexer": "ipython3",
   "version": "3.6.8"
  }
 },
 "nbformat": 4,
 "nbformat_minor": 2
}
