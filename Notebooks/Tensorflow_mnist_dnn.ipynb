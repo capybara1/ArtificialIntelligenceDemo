{
 "cells": [
  {
   "cell_type": "markdown",
   "metadata": {},
   "source": [
    "# Initialize Environment"
   ]
  },
  {
   "cell_type": "code",
   "execution_count": null,
   "metadata": {},
   "outputs": [],
   "source": [
    "import tensorflow as tf\n",
    "import skopt\n",
    "from skopt.utils import use_named_args\n",
    "import matplotlib.pyplot as plt\n",
    "import numpy as np\n",
    "import datetime\n",
    "import random\n",
    "import os\n",
    "from shutil import rmtree"
   ]
  },
  {
   "cell_type": "code",
   "execution_count": null,
   "metadata": {},
   "outputs": [],
   "source": [
    "%matplotlib inline\n",
    "%load_ext tensorboard.notebook"
   ]
  },
  {
   "cell_type": "code",
   "execution_count": null,
   "metadata": {},
   "outputs": [],
   "source": [
    "LOGS_PATH = os.path.join('.', 'logs', 'fit', 'mnist')\n",
    "MODEL_FILE_NAME = 'tf_mnist_dnn.model'"
   ]
  },
  {
   "cell_type": "markdown",
   "metadata": {},
   "source": [
    "# Load Data"
   ]
  },
  {
   "cell_type": "code",
   "execution_count": null,
   "metadata": {},
   "outputs": [],
   "source": [
    "(x_train, y_train), (x_test, y_test) = tf.keras.datasets.mnist.load_data()"
   ]
  },
  {
   "cell_type": "code",
   "execution_count": null,
   "metadata": {
    "scrolled": true
   },
   "outputs": [],
   "source": [
    "sample_pos = random.randint(1, x_train.shape[0])\n",
    "print(f\"Image at {sample_pos}\")\n",
    "plt.imshow(x_train[sample_pos - 1], cmap = plt.cm.binary)"
   ]
  },
  {
   "cell_type": "markdown",
   "metadata": {},
   "source": [
    "# Normalize Data"
   ]
  },
  {
   "cell_type": "code",
   "execution_count": null,
   "metadata": {},
   "outputs": [],
   "source": [
    "x_train = x_train.astype(float)/255\n",
    "x_test = x_test.astype(float)/255"
   ]
  },
  {
   "cell_type": "markdown",
   "metadata": {},
   "source": [
    "# Define Model"
   ]
  },
  {
   "cell_type": "code",
   "execution_count": null,
   "metadata": {
    "scrolled": true
   },
   "outputs": [],
   "source": [
    "def create_model(learning_rate, num_dense_layers, num_dense_nodes, activation):\n",
    "    model = tf.keras.models.Sequential()\n",
    "    model.add(tf.keras.layers.Flatten(input_shape=(28, 28)))\n",
    "    for i in range(num_dense_layers - 1):\n",
    "        model.add(tf.keras.layers.Dense(num_dense_nodes, activation=activation))\n",
    "    if num_dense_layers > 1:\n",
    "        model.add(tf.keras.layers.Dropout(0.2))\n",
    "    model.add(tf.keras.layers.Dense(10, activation = tf.nn.softmax))\n",
    "    model.compile(optimizer = tf.keras.optimizers.Adam(learning_rate),\n",
    "                  loss = 'sparse_categorical_crossentropy',\n",
    "                  metrics = ['accuracy'])\n",
    "    return model"
   ]
  },
  {
   "cell_type": "markdown",
   "metadata": {},
   "source": [
    "# Train & Verify Model"
   ]
  },
  {
   "cell_type": "code",
   "execution_count": null,
   "metadata": {},
   "outputs": [],
   "source": [
    "def log_dir_path(learning_rate, num_dense_layers, num_dense_nodes, activation):\n",
    "    time_stamp = datetime.datetime.now().strftime('%Y%m%d-%H%M%S')\n",
    "    log_dir_name_pattern = \"lr{0:.0e}_l{1}_n{2}_a{3}_{4}\"\n",
    "    log_dir_name = log_dir_name_pattern.format(learning_rate,\n",
    "                                               num_dense_layers,\n",
    "                                               num_dense_nodes,\n",
    "                                               activation,\n",
    "                                               time_stamp)\n",
    "    log_dir = os.path.join(LOGS_PATH, log_dir_name)\n",
    "\n",
    "    return log_dir\n",
    "    "
   ]
  },
  {
   "cell_type": "code",
   "execution_count": null,
   "metadata": {
    "scrolled": true
   },
   "outputs": [],
   "source": [
    "def fit_model(learning_rate, num_dense_layers, num_dense_nodes, activation):\n",
    "    model = create_model(learning_rate=learning_rate,\n",
    "                         num_dense_layers=num_dense_layers,\n",
    "                         num_dense_nodes=num_dense_nodes,\n",
    "                         activation=activation)\n",
    "    \n",
    "    log_dir = log_dir_path(learning_rate, num_dense_layers,\n",
    "                           num_dense_nodes, activation)\n",
    "    \n",
    "    tensor_board_callback = tf.keras.callbacks.TensorBoard(log_dir=log_dir,\n",
    "                                                           histogram_freq=1)\n",
    "    early_stopping_callback = tf.keras.callbacks.EarlyStopping(monitor='val_loss',\n",
    "                                                               patience=2,\n",
    "                                                               restore_best_weights=True)\n",
    "   \n",
    "    history = model.fit(x=x_train,\n",
    "                        y=y_train,\n",
    "                        epochs = 20,\n",
    "                        validation_data=(x_test, y_test), \n",
    "                        callbacks=[tensor_board_callback, early_stopping_callback])\n",
    "    accuracy = history.history['val_accuracy'][early_stopping_callback.stopped_epoch]\n",
    "    \n",
    "    return model, accuracy"
   ]
  },
  {
   "cell_type": "code",
   "execution_count": null,
   "metadata": {},
   "outputs": [],
   "source": [
    "# Clear any logs from previous runs\n",
    "if os.path.isdir(LOGS_PATH):\n",
    "    rmtree(LOGS_PATH)"
   ]
  },
  {
   "cell_type": "code",
   "execution_count": null,
   "metadata": {},
   "outputs": [],
   "source": [
    "initial_parameters = [1e-3, 2, 128, 'relu']\n",
    "model, accuracy = fit_model(*initial_parameters)\n",
    "print()\n",
    "print(\"Accuracy: {0:.2%}\".format(accuracy))\n",
    "del model\n",
    "tf.keras.backend.clear_session()"
   ]
  },
  {
   "cell_type": "markdown",
   "metadata": {},
   "source": [
    "# Hyperparameter Optimiziation\n",
    "Using Bayesian Optimiziation"
   ]
  },
  {
   "cell_type": "code",
   "execution_count": null,
   "metadata": {},
   "outputs": [],
   "source": [
    "dim_learning_rate = skopt.space.Real(low=1e-6, high=1e-1, prior='log-uniform', name='learning_rate')\n",
    "dim_num_dense_layers = skopt.space.Integer(low=1, high=5, name='num_dense_layers')\n",
    "dim_num_dense_nodes = skopt.space.Integer(low=5, high=512, name='num_dense_nodes')\n",
    "dim_activation = skopt.space.Categorical(categories=['relu', 'sigmoid'], name='activation')\n",
    "dimensions = [dim_learning_rate, dim_num_dense_layers, dim_num_dense_nodes, dim_activation]"
   ]
  },
  {
   "cell_type": "code",
   "execution_count": null,
   "metadata": {},
   "outputs": [],
   "source": [
    "best_run = {\n",
    "    'accuracy': 0.0,\n",
    "    'learning_rate': None,\n",
    "    'num_dense_layers': None,\n",
    "    'num_dense_nodes': None,\n",
    "    'activation': None\n",
    "}\n",
    "@use_named_args(dimensions=dimensions)\n",
    "def fitness(learning_rate, num_dense_layers, num_dense_nodes, activation):\n",
    "    \n",
    "    print('Learning rate: {0:.1e}'.format(learning_rate))\n",
    "    print('Number of dense layers:', num_dense_layers)\n",
    "    print('Number of dense nodes:', num_dense_nodes)\n",
    "    print('Activation function:', activation)\n",
    "    print()\n",
    "    \n",
    "    model, accuracy = fit_model(learning_rate=learning_rate,\n",
    "                                num_dense_layers=num_dense_layers,\n",
    "                                num_dense_nodes=num_dense_nodes,\n",
    "                                activation=activation)\n",
    "    \n",
    "    global best_run\n",
    "    \n",
    "    print()\n",
    "    print(\"Accuracy: {0:.2%}\".format(accuracy))\n",
    "    print(\"Best Accuracy so far: {0:.2%}\".format(best_run['accuracy']))\n",
    "    print()\n",
    "    \n",
    "    if accuracy > best_run['accuracy']:\n",
    "        model.save(MODEL_FILE_NAME)\n",
    "        best_run['accuracy'] = accuracy\n",
    "        best_run['learning_rate'] = learning_rate\n",
    "        best_run['num_dense_layers'] = num_dense_layers\n",
    "        best_run['num_dense_nodes'] = num_dense_nodes\n",
    "        best_run['activation'] = activation\n",
    "    \n",
    "    del model\n",
    "    tf.keras.backend.clear_session()\n",
    "    \n",
    "    # Scikit-optimize tries to find a set of hyper-parameters with the LOWEST fitness-value\n",
    "    return -accuracy"
   ]
  },
  {
   "cell_type": "code",
   "execution_count": null,
   "metadata": {},
   "outputs": [],
   "source": [
    "search_result = skopt.gp_minimize(func=fitness,\n",
    "                                  dimensions=dimensions,\n",
    "                                  acq_func='EI',\n",
    "                                  n_calls=40,\n",
    "                                  x0=initial_parameters)"
   ]
  },
  {
   "cell_type": "code",
   "execution_count": null,
   "metadata": {},
   "outputs": [],
   "source": [
    "print(\"Best Accuracy: {0:.2%}\".format(best_run['accuracy']))\n",
    "print('Best set of hyperparameters:')\n",
    "print('  Learning rate: {0:.1e}'.format(best_run['learning_rate']))\n",
    "print('  Number of dense layers:', best_run['num_dense_layers'])\n",
    "print('  Number of dense nodes:', best_run['num_dense_nodes'])\n",
    "print('  Activation function:', best_run['activation'])"
   ]
  },
  {
   "cell_type": "code",
   "execution_count": null,
   "metadata": {},
   "outputs": [],
   "source": [
    "%tensorboard --logdir './logs/fit/mnist'"
   ]
  },
  {
   "cell_type": "markdown",
   "metadata": {},
   "source": [
    "# Use Model"
   ]
  },
  {
   "cell_type": "code",
   "execution_count": null,
   "metadata": {},
   "outputs": [],
   "source": [
    "!test_mnist"
   ]
  }
 ],
 "metadata": {
  "kernelspec": {
   "display_name": "Python 3",
   "language": "python",
   "name": "python3"
  },
  "language_info": {
   "codemirror_mode": {
    "name": "ipython",
    "version": 3
   },
   "file_extension": ".py",
   "mimetype": "text/x-python",
   "name": "python",
   "nbconvert_exporter": "python",
   "pygments_lexer": "ipython3",
   "version": "3.6.8"
  }
 },
 "nbformat": 4,
 "nbformat_minor": 2
}
